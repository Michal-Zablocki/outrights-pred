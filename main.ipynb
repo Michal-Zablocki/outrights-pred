{
 "cells": [
  {
   "cell_type": "code",
   "execution_count": null,
   "metadata": {},
   "outputs": [],
   "source": [
    "# TODO\n",
    "# 1 match the names between elo and fixtures\n",
    "# 2 simulate season\n",
    "### a) calculate probs of win/draw/loss\n",
    "### b) update elo afterwards\n",
    "# 3 formulate draw rules\n",
    "# 4 scrape outrights odds\n",
    "\n",
    "# european leagues with seasons not ending around May: Finland, Ireland, Norway, Sweden\n",
    "# american leagues -||-: Brazil, Canada, Ecuador, USA, Uruguay\n",
    "# asian leagues -||-: Japan, Korea et al."
   ]
  },
  {
   "cell_type": "code",
   "execution_count": 1,
   "metadata": {},
   "outputs": [],
   "source": [
    "import copy\n",
    "from datetime import datetime\n",
    "import json\n",
    "import math\n",
    "import os\n",
    "from pathlib import Path\n",
    "import random\n",
    "\n",
    "from dotenv import load_dotenv\n",
    "import pandas as pd\n",
    "import requests"
   ]
  },
  {
   "cell_type": "code",
   "execution_count": 2,
   "metadata": {},
   "outputs": [],
   "source": [
    "load_dotenv()\n",
    "\n",
    "API_TOKEN = os.getenv('X-RapidAPI-Key')"
   ]
  },
  {
   "cell_type": "code",
   "execution_count": 3,
   "metadata": {},
   "outputs": [],
   "source": [
    "def download_elo_data() -> None:\n",
    "    today = datetime.today().strftime('%Y-%m-%d')\n",
    "    df = pd.read_csv(f\"http://api.clubelo.com/{today}\")\n",
    "    Path(\"data/elo\").mkdir(parents=True, exist_ok=True)\n",
    "    df = df[['Rank', 'Club', 'Country', 'Level', 'Elo']]\n",
    "    today = today.replace('-', '')\n",
    "    df.to_csv(f\"data/elo/{today}.csv\", index=False)"
   ]
  },
  {
   "cell_type": "code",
   "execution_count": 4,
   "metadata": {},
   "outputs": [],
   "source": [
    "def api_get_leagues() -> None:\n",
    "    url = \"https://api-football-v1.p.rapidapi.com/v3/leagues\"\n",
    "\n",
    "    params = {\"current\": \"true\"}\n",
    "\n",
    "    headers = {\n",
    "        \"X-RapidAPI-Key\": API_TOKEN,\n",
    "        \"X-RapidAPI-Host\": \"api-football-v1.p.rapidapi.com\"\n",
    "    }\n",
    "\n",
    "    response = requests.get(url, headers=headers, params=params)\n",
    "    print(response.status_code)\n",
    "\n",
    "    if response.json()['paging']['total'] != 1:\n",
    "        raise Exception(\"Error: multiple pages of leagues\")\n",
    "\n",
    "    Path(\"data/api\").mkdir(parents=True, exist_ok=True)\n",
    "    with open(\"data/api/leagues.json\", \"w\") as f:\n",
    "        json.dump(response.json(), f)"
   ]
  },
  {
   "cell_type": "code",
   "execution_count": 5,
   "metadata": {},
   "outputs": [],
   "source": [
    "def api_get_fixtures_for_league(league_id: str, season: str) -> None:\n",
    "    url = \"https://api-football-v1.p.rapidapi.com/v3/fixtures\"\n",
    "    params = {\"league\": league_id, \"season\": season}\n",
    "\n",
    "    headers = {\n",
    "        \"X-RapidAPI-Key\": API_TOKEN,\n",
    "        \"X-RapidAPI-Host\": \"api-football-v1.p.rapidapi.com\"\n",
    "    }\n",
    "\n",
    "    response = requests.get(url, headers=headers, params=params)\n",
    "\n",
    "    if response.json()['results'] == 0:\n",
    "        raise Exception(\"No results found.\")\n",
    "\n",
    "    if response.json()['paging']['total'] != 1:\n",
    "        raise Exception(\"Error: multiple pages of leagues\")\n",
    "\n",
    "    Path(\"data/api\").mkdir(parents=True, exist_ok=True)\n",
    "    with open(f\"data/api/fixtures_{league_id}_{season}.json\", \"w\") as f:\n",
    "        json.dump(response.json(), f)"
   ]
  },
  {
   "cell_type": "code",
   "execution_count": 6,
   "metadata": {},
   "outputs": [],
   "source": [
    "def api_get_standings_for_league() -> None:\n",
    "    pass"
   ]
  },
  {
   "cell_type": "code",
   "execution_count": 22,
   "metadata": {},
   "outputs": [],
   "source": [
    "def find_league_id(country_code: str, league_name: str) -> str:\n",
    "    with open(\"data/api/leagues.json\", \"r\") as f:\n",
    "        leagues = json.load(f)\n",
    "        for league in leagues['response']:\n",
    "            if league['country']['code'] == country_code and league['league']['type'] == 'League' and league['league']['name'] == league_name:\n",
    "                return league['league']['id']\n",
    "\n",
    "assert find_league_id(\"NO\", \"Eliteserien\") == 103\n",
    "assert find_league_id(\"PL\", \"Ekstraklasa\") == 106\n",
    "assert find_league_id(\"SE\", \"Allsvenskan\") == 113"
   ]
  },
  {
   "cell_type": "code",
   "execution_count": 21,
   "metadata": {},
   "outputs": [],
   "source": [
    "def get_team_names_from_elo(elo_country_code: str) -> list:\n",
    "    df = pd.read_csv(find_latest_elo_file())\n",
    "    df = df[(df['Country'] == elo_country_code) & (df['Level'] == 1)]\n",
    "    return sorted(df['Club'].tolist())\n",
    "\n",
    "assert 'Elfsborg' in get_team_names_from_elo('SWE')"
   ]
  },
  {
   "cell_type": "code",
   "execution_count": 13,
   "metadata": {},
   "outputs": [],
   "source": [
    "def find_latest_elo_file() -> str:\n",
    "    elo_files = os.listdir(\"data/elo\")\n",
    "    return f'data/elo/{sorted(elo_files)[-1]}'"
   ]
  },
  {
   "cell_type": "code",
   "execution_count": null,
   "metadata": {},
   "outputs": [],
   "source": [
    "def simulate_results() -> None:\n",
    "    pass"
   ]
  },
  {
   "cell_type": "code",
   "execution_count": null,
   "metadata": {},
   "outputs": [],
   "source": []
  },
  {
   "cell_type": "code",
   "execution_count": null,
   "metadata": {},
   "outputs": [],
   "source": []
  },
  {
   "cell_type": "code",
   "execution_count": null,
   "metadata": {},
   "outputs": [],
   "source": []
  },
  {
   "cell_type": "code",
   "execution_count": null,
   "metadata": {},
   "outputs": [],
   "source": []
  },
  {
   "cell_type": "code",
   "execution_count": null,
   "metadata": {},
   "outputs": [],
   "source": []
  },
  {
   "cell_type": "code",
   "execution_count": null,
   "metadata": {},
   "outputs": [],
   "source": []
  },
  {
   "cell_type": "code",
   "execution_count": null,
   "metadata": {},
   "outputs": [],
   "source": []
  },
  {
   "cell_type": "code",
   "execution_count": null,
   "metadata": {},
   "outputs": [],
   "source": []
  },
  {
   "cell_type": "code",
   "execution_count": null,
   "metadata": {},
   "outputs": [],
   "source": []
  },
  {
   "cell_type": "code",
   "execution_count": null,
   "metadata": {},
   "outputs": [],
   "source": []
  },
  {
   "cell_type": "code",
   "execution_count": null,
   "metadata": {},
   "outputs": [],
   "source": []
  }
 ],
 "metadata": {
  "kernelspec": {
   "display_name": "latest",
   "language": "python",
   "name": "latest"
  },
  "language_info": {
   "codemirror_mode": {
    "name": "ipython",
    "version": 3
   },
   "file_extension": ".py",
   "mimetype": "text/x-python",
   "name": "python",
   "nbconvert_exporter": "python",
   "pygments_lexer": "ipython3",
   "version": "3.12.1"
  }
 },
 "nbformat": 4,
 "nbformat_minor": 2
}
