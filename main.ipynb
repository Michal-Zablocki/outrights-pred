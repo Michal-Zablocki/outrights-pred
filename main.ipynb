{
 "cells": [
  {
   "cell_type": "code",
   "execution_count": 11,
   "metadata": {},
   "outputs": [],
   "source": [
    "import copy\n",
    "from datetime import datetime\n",
    "import json\n",
    "import math\n",
    "import os\n",
    "from pathlib import Path\n",
    "import random\n",
    "\n",
    "from dotenv import load_dotenv\n",
    "import pandas as pd\n",
    "import requests"
   ]
  },
  {
   "cell_type": "code",
   "execution_count": 15,
   "metadata": {},
   "outputs": [],
   "source": [
    "load_dotenv()\n",
    "\n",
    "API_TOKEN = os.getenv('X-RapidAPI-Key')"
   ]
  },
  {
   "cell_type": "code",
   "execution_count": 19,
   "metadata": {},
   "outputs": [],
   "source": [
    "def download_elo_data() -> None:\n",
    "    today = datetime.today().strftime('%Y-%m-%d')\n",
    "    df = pd.read_csv(f\"http://api.clubelo.com/{today}\")\n",
    "    Path(\"data/elo\").mkdir(parents=True, exist_ok=True)\n",
    "    df = df[['Rank', 'Club', 'Country', 'Level', 'Elo']]\n",
    "    today = today.replace('-', '')\n",
    "    df.to_csv(f\"data/elo/{today}.csv\", index=False)"
   ]
  },
  {
   "cell_type": "code",
   "execution_count": 16,
   "metadata": {},
   "outputs": [],
   "source": [
    "def api_get_leagues() -> None:\n",
    "    url = \"https://api-football-v1.p.rapidapi.com/v3/leagues\"\n",
    "\n",
    "    params = {\"current\": \"true\"}\n",
    "\n",
    "    headers = {\n",
    "        \"X-RapidAPI-Key\": API_TOKEN,\n",
    "        \"X-RapidAPI-Host\": \"api-football-v1.p.rapidapi.com\"\n",
    "    }\n",
    "\n",
    "    response = requests.get(url, headers=headers, params=params)\n",
    "    print(response.status_code)\n",
    "\n",
    "    if response.json()['paging']['total'] != 1:\n",
    "        raise Exception(\"Error: multiple pages of leagues\")\n",
    "\n",
    "    Path(\"data/api\").mkdir(parents=True, exist_ok=True)\n",
    "    with open(\"data/api/leagues.json\", \"w\") as f:\n",
    "        json.dump(response.json(), f)"
   ]
  },
  {
   "cell_type": "code",
   "execution_count": 17,
   "metadata": {},
   "outputs": [],
   "source": [
    "def api_get_fixtures_for_league() -> None:\n",
    "    pass"
   ]
  },
  {
   "cell_type": "code",
   "execution_count": null,
   "metadata": {},
   "outputs": [],
   "source": [
    "def api_get_standings_for_league() -> None:\n",
    "    pass"
   ]
  },
  {
   "cell_type": "code",
   "execution_count": 24,
   "metadata": {},
   "outputs": [],
   "source": [
    "def find_league_id(country_code: str, league_name: str) -> str:\n",
    "    with open(\"data/api/leagues.json\", \"r\") as f:\n",
    "        leagues = json.load(f)\n",
    "        for league in leagues['response']:\n",
    "            if league['country']['code'] == country_code and league['league']['type'] == 'League' and league['league']['name'] == league_name:\n",
    "                return league['league']['id']\n",
    "\n",
    "assert find_league_id(\"PL\", \"Ekstraklasa\") == 106"
   ]
  },
  {
   "cell_type": "code",
   "execution_count": 25,
   "metadata": {},
   "outputs": [],
   "source": [
    "def simulate_results() -> None:\n",
    "    pass"
   ]
  },
  {
   "cell_type": "code",
   "execution_count": null,
   "metadata": {},
   "outputs": [],
   "source": []
  },
  {
   "cell_type": "code",
   "execution_count": null,
   "metadata": {},
   "outputs": [],
   "source": []
  },
  {
   "cell_type": "code",
   "execution_count": null,
   "metadata": {},
   "outputs": [],
   "source": []
  },
  {
   "cell_type": "code",
   "execution_count": null,
   "metadata": {},
   "outputs": [],
   "source": []
  },
  {
   "cell_type": "code",
   "execution_count": null,
   "metadata": {},
   "outputs": [],
   "source": []
  },
  {
   "cell_type": "code",
   "execution_count": null,
   "metadata": {},
   "outputs": [],
   "source": [
    "# 1 calculate or get elo\n",
    "# 2 get schedule\n",
    "# 3 formulate draw rules\n",
    "# 4 simulate\n",
    "# 5 scrape outrights odds\n",
    "\n",
    "# european leagues with seasons not ending around May: Finland, Ireland, Norway, Sweden\n",
    "# american leagues -||-: Brazil, Canada, Ecuador, USA, Uruguay\n",
    "# asian leagues -||-: Japan, Korea et al."
   ]
  },
  {
   "cell_type": "code",
   "execution_count": 9,
   "metadata": {},
   "outputs": [],
   "source": [
    "table = {\n",
    "    'jagiellonia': 60,\n",
    "    'slask': 60,\n",
    "    # 'legia': 56,\n",
    "    # 'gornik': 53,\n",
    "    # 'lech': 53,\n",
    "    # 'rakow': 52,\n",
    "    # 'pogon': 52\n",
    "}\n",
    "\n",
    "odds_df = [\n",
    "    ['jagiellonia', 'warta', 1.38, 5, 7.2],\n",
    "    # ['lech', 'korona', 1.82, 4.1, 3.75],\n",
    "    # ['legia', 'zaglebie', 1.49, 4.4, 6.2],\n",
    "    # ['pogon', 'gornik', 1.77, 4.1, 3.95],\n",
    "    # ['puszcza', 'piast', 3.2, 3.3, 2.25],\n",
    "    # ['radomiak', 'widzew', 2.33, 3.35, 3],\n",
    "    ['rakow', 'slask', 2.38, 3.65, 2.7],\n",
    "    # ['ruch', 'cracovia', 2.7, 3.5, 2.46],\n",
    "    # ['lks', 'mielec', 2.75, 3.2, 2.6]\n",
    "]"
   ]
  },
  {
   "cell_type": "code",
   "execution_count": 10,
   "metadata": {},
   "outputs": [
    {
     "data": {
      "text/html": [
       "<div>\n",
       "<style scoped>\n",
       "    .dataframe tbody tr th:only-of-type {\n",
       "        vertical-align: middle;\n",
       "    }\n",
       "\n",
       "    .dataframe tbody tr th {\n",
       "        vertical-align: top;\n",
       "    }\n",
       "\n",
       "    .dataframe thead th {\n",
       "        text-align: right;\n",
       "    }\n",
       "</style>\n",
       "<table border=\"1\" class=\"dataframe\">\n",
       "  <thead>\n",
       "    <tr style=\"text-align: right;\">\n",
       "      <th></th>\n",
       "      <th>team_home</th>\n",
       "      <th>team_away</th>\n",
       "      <th>OddsH</th>\n",
       "      <th>OddsD</th>\n",
       "      <th>OddsA</th>\n",
       "      <th>BookieProbH</th>\n",
       "      <th>BookieProbD</th>\n",
       "      <th>BookieProbA</th>\n",
       "      <th>BookieProbTotal</th>\n",
       "    </tr>\n",
       "  </thead>\n",
       "  <tbody>\n",
       "    <tr>\n",
       "      <th>0</th>\n",
       "      <td>jagiellonia</td>\n",
       "      <td>warta</td>\n",
       "      <td>1.38</td>\n",
       "      <td>5.00</td>\n",
       "      <td>7.2</td>\n",
       "      <td>0.681354</td>\n",
       "      <td>0.188054</td>\n",
       "      <td>0.130593</td>\n",
       "      <td>1.0</td>\n",
       "    </tr>\n",
       "    <tr>\n",
       "      <th>1</th>\n",
       "      <td>rakow</td>\n",
       "      <td>slask</td>\n",
       "      <td>2.38</td>\n",
       "      <td>3.65</td>\n",
       "      <td>2.7</td>\n",
       "      <td>0.394705</td>\n",
       "      <td>0.257369</td>\n",
       "      <td>0.347925</td>\n",
       "      <td>1.0</td>\n",
       "    </tr>\n",
       "  </tbody>\n",
       "</table>\n",
       "</div>"
      ],
      "text/plain": [
       "     team_home team_away  OddsH  OddsD  OddsA  BookieProbH  BookieProbD  \\\n",
       "0  jagiellonia     warta   1.38   5.00    7.2     0.681354     0.188054   \n",
       "1        rakow     slask   2.38   3.65    2.7     0.394705     0.257369   \n",
       "\n",
       "   BookieProbA  BookieProbTotal  \n",
       "0     0.130593              1.0  \n",
       "1     0.347925              1.0  "
      ]
     },
     "execution_count": 10,
     "metadata": {},
     "output_type": "execute_result"
    }
   ],
   "source": [
    "# odds_df = pd.DataFrame(columns=['team_home', 'team_away', 'OddsH', 'OddsD', 'OddsA'], data=odds_df)\n",
    "\n",
    "# odds_df['BookieProbH'] = odds_df.apply(lambda row: 1/row['OddsH'] / (1/row['OddsH'] + 1/row['OddsD'] + 1/row['OddsA']), axis=1)\n",
    "# odds_df['BookieProbD'] = odds_df.apply(lambda row: 1/row['OddsD'] / (1/row['OddsH'] + 1/row['OddsD'] + 1/row['OddsA']), axis=1)\n",
    "# odds_df['BookieProbA'] = odds_df.apply(lambda row: 1/row['OddsA'] / (1/row['OddsH'] + 1/row['OddsD'] + 1/row['OddsA']), axis=1)\n",
    "\n",
    "# odds_df['BookieProbTotal'] = odds_df.apply(lambda row: row['BookieProbH'] + row['BookieProbD'] + row['BookieProbA'], axis=1)\n",
    "\n",
    "# odds_df.head()"
   ]
  },
  {
   "cell_type": "code",
   "execution_count": 11,
   "metadata": {},
   "outputs": [
    {
     "name": "stdout",
     "output_type": "stream",
     "text": [
      "Time: 0:00:14.440981\n",
      "0.14505\n",
      "Fair odds: 6.9\n"
     ]
    }
   ],
   "source": [
    "# start = datetime.now()\n",
    "\n",
    "# slask_wins = 0\n",
    "# sims = 100000\n",
    "\n",
    "# for i in range(sims):\n",
    "#     tmp_table = copy.deepcopy(table)\n",
    "#     for index, row in odds_df.iterrows():\n",
    "#         random_number = random.random()\n",
    "#         if random_number < row['BookieProbH']:\n",
    "#             try:\n",
    "#                 tmp_table[row['team_home']] += 3\n",
    "#             except KeyError:\n",
    "#                 pass\n",
    "#         elif random_number < row['BookieProbH'] + row['BookieProbD']:\n",
    "#             try:\n",
    "#                 tmp_table[row['team_home']] += 1\n",
    "#             except KeyError:\n",
    "#                 pass\n",
    "#             try:\n",
    "#                 tmp_table[row['team_away']] += 1\n",
    "#             except KeyError:\n",
    "#                 pass\n",
    "#         else:\n",
    "#             try:\n",
    "#                 tmp_table[row['team_away']] += 3\n",
    "#             except KeyError:\n",
    "#                 pass\n",
    "#     slask_won = True\n",
    "#     for k, v in tmp_table.items():\n",
    "#         if k != 'slask' and tmp_table['slask'] <= v:\n",
    "#             slask_won = False\n",
    "#     if slask_won:\n",
    "#         slask_wins += 1\n",
    "\n",
    "# print(f'Time: {datetime.now()-start}')\n",
    "# print(f'{slask_wins/sims}')\n",
    "# print(f'Fair odds: {math.ceil(1/(slask_wins/sims) * 100) / 100}')"
   ]
  },
  {
   "cell_type": "code",
   "execution_count": null,
   "metadata": {},
   "outputs": [],
   "source": []
  },
  {
   "cell_type": "code",
   "execution_count": null,
   "metadata": {},
   "outputs": [],
   "source": []
  }
 ],
 "metadata": {
  "kernelspec": {
   "display_name": "latest",
   "language": "python",
   "name": "latest"
  },
  "language_info": {
   "codemirror_mode": {
    "name": "ipython",
    "version": 3
   },
   "file_extension": ".py",
   "mimetype": "text/x-python",
   "name": "python",
   "nbconvert_exporter": "python",
   "pygments_lexer": "ipython3",
   "version": "3.12.1"
  }
 },
 "nbformat": 4,
 "nbformat_minor": 2
}
