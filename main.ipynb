{
 "cells": [
  {
   "cell_type": "code",
   "execution_count": 15,
   "metadata": {},
   "outputs": [],
   "source": [
    "# TODO\n",
    "# get elo from the start of the season\n",
    "# update elo after each game with k = 40\n",
    "# get/scrape outrights odds\n",
    "\n",
    "# european leagues with seasons not ending around May: Finland, Ireland, Norway, Sweden\n",
    "# american leagues -||-: Brazil, Canada, Ecuador, USA, Uruguay\n",
    "# asian leagues -||-: Japan, Korea et al."
   ]
  },
  {
   "cell_type": "code",
   "execution_count": 52,
   "metadata": {},
   "outputs": [],
   "source": [
    "import copy\n",
    "from datetime import datetime\n",
    "import json\n",
    "import math\n",
    "import os\n",
    "from pathlib import Path\n",
    "import random\n",
    "\n",
    "from dotenv import load_dotenv\n",
    "import pandas as pd\n",
    "import requests\n",
    "from tqdm import tqdm"
   ]
  },
  {
   "cell_type": "code",
   "execution_count": 45,
   "metadata": {},
   "outputs": [],
   "source": [
    "load_dotenv()\n",
    "\n",
    "API_TOKEN = os.getenv('X-RapidAPI-Key')\n",
    "HFA = 50\n",
    "K_FACTOR = 40"
   ]
  },
  {
   "cell_type": "code",
   "execution_count": 79,
   "metadata": {},
   "outputs": [],
   "source": [
    "def download_elo_data(date=None) -> None:\n",
    "    if date is None:\n",
    "        date = datetime.today().strftime('%Y-%m-%d')\n",
    "    df = pd.read_csv(f\"http://api.clubelo.com/{date}\")\n",
    "    Path(\"data/elo\").mkdir(parents=True, exist_ok=True)\n",
    "    df = df[['Rank', 'Club', 'Country', 'Level', 'Elo']]\n",
    "    date = date.replace('-', '')\n",
    "    df.to_csv(f\"data/elo/{date}.csv\", index=False)\n",
    "\n",
    "# download_elo_data('2023-07-20')"
   ]
  },
  {
   "cell_type": "code",
   "execution_count": 19,
   "metadata": {},
   "outputs": [],
   "source": [
    "def api_get_leagues() -> None:\n",
    "    url = \"https://api-football-v1.p.rapidapi.com/v3/leagues\"\n",
    "\n",
    "    params = {\"current\": \"true\"}\n",
    "\n",
    "    headers = {\n",
    "        \"X-RapidAPI-Key\": API_TOKEN,\n",
    "        \"X-RapidAPI-Host\": \"api-football-v1.p.rapidapi.com\"\n",
    "    }\n",
    "\n",
    "    response = requests.get(url, headers=headers, params=params)\n",
    "    print(response.status_code)\n",
    "\n",
    "    if response.json()['paging']['total'] != 1:\n",
    "        raise Exception(\"Error: multiple pages of leagues\")\n",
    "\n",
    "    Path(\"data/api\").mkdir(parents=True, exist_ok=True)\n",
    "    with open(\"data/api/leagues.json\", \"w\") as f:\n",
    "        json.dump(response.json(), f)\n",
    "\n",
    "# api_get_leagues()"
   ]
  },
  {
   "cell_type": "code",
   "execution_count": 80,
   "metadata": {},
   "outputs": [],
   "source": [
    "def api_get_fixtures_for_league(league_id: str, season: str) -> None:\n",
    "    url = \"https://api-football-v1.p.rapidapi.com/v3/fixtures\"\n",
    "    params = {\"league\": league_id, \"season\": season}\n",
    "\n",
    "    headers = {\n",
    "        \"X-RapidAPI-Key\": API_TOKEN,\n",
    "        \"X-RapidAPI-Host\": \"api-football-v1.p.rapidapi.com\"\n",
    "    }\n",
    "\n",
    "    response = requests.get(url, headers=headers, params=params)\n",
    "\n",
    "    if response.json()['results'] == 0:\n",
    "        raise Exception(\"No results found.\")\n",
    "\n",
    "    if response.json()['paging']['total'] != 1:\n",
    "        raise Exception(\"Error: multiple pages of leagues\")\n",
    "\n",
    "    Path(\"data/api\").mkdir(parents=True, exist_ok=True)\n",
    "    with open(f\"data/api/fixtures_{league_id}_{season}.json\", \"w\") as f:\n",
    "        json.dump(response.json(), f)\n",
    "\n",
    "# api_get_fixtures_for_league(\"103\", \"2024\")"
   ]
  },
  {
   "cell_type": "code",
   "execution_count": 21,
   "metadata": {},
   "outputs": [],
   "source": [
    "def api_get_standings_for_league() -> None:\n",
    "    pass"
   ]
  },
  {
   "cell_type": "code",
   "execution_count": 22,
   "metadata": {},
   "outputs": [],
   "source": [
    "def find_league_id(country_code: str, league_name: str) -> str:\n",
    "    with open(\"data/api/leagues.json\", \"r\") as f:\n",
    "        leagues = json.load(f)\n",
    "        for league in leagues['response']:\n",
    "            if league['country']['code'] == country_code and league['league']['type'] == 'League' and league['league']['name'] == league_name:\n",
    "                return league['league']['id']\n",
    "\n",
    "assert find_league_id(\"NO\", \"Eliteserien\") == 103\n",
    "assert find_league_id(\"PL\", \"Ekstraklasa\") == 106\n",
    "assert find_league_id(\"SE\", \"Allsvenskan\") == 113"
   ]
  },
  {
   "cell_type": "code",
   "execution_count": 23,
   "metadata": {},
   "outputs": [],
   "source": [
    "def find_latest_elo_file() -> str:\n",
    "    elo_files = os.listdir(\"data/elo\")\n",
    "    return f'data/elo/{sorted(elo_files)[-1]}'"
   ]
  },
  {
   "cell_type": "code",
   "execution_count": 24,
   "metadata": {},
   "outputs": [],
   "source": [
    "def get_team_names_from_elo(elo_country_code: str) -> None:\n",
    "    df = pd.read_csv(find_latest_elo_file())\n",
    "    df = df[(df['Country'] == elo_country_code) & (df['Level'] == 1)]\n",
    "    names = sorted(df['Club'].tolist())\n",
    "    df = pd.DataFrame(names)\n",
    "    df.to_excel('tmp_team_names_elo.xlsx', index=False)\n",
    "\n",
    "# get_team_names_from_elo('POL')"
   ]
  },
  {
   "cell_type": "code",
   "execution_count": 25,
   "metadata": {},
   "outputs": [],
   "source": [
    "def simulate_results() -> None:\n",
    "    pass"
   ]
  },
  {
   "cell_type": "code",
   "execution_count": 26,
   "metadata": {},
   "outputs": [],
   "source": [
    "def get_team_names_from_api_dump(path: str) -> None:\n",
    "    with open(path, \"r\") as f:\n",
    "        fixtures = json.load(f)\n",
    "    names = sorted(set([fixture['teams']['home']['name'] for fixture in fixtures['response']]))\n",
    "    df = pd.DataFrame(names)\n",
    "    df.to_excel('tmp_team_names_api.xlsx', index=False)\n",
    "\n",
    "# get_team_names_from_api_dump('data/api/fixtures_106_2023.json')"
   ]
  },
  {
   "cell_type": "code",
   "execution_count": 82,
   "metadata": {},
   "outputs": [],
   "source": [
    "def get_api_teams_and_elo(date: str, country_code: str) -> pd.DataFrame:\n",
    "    date = date.replace('-', '')\n",
    "    elo_data = pd.read_csv(f\"data/elo/{date}.csv\")\n",
    "\n",
    "    elo_data = elo_data[(elo_data['Country'] == country_code) & (elo_data['Level'] == 1)]\n",
    "\n",
    "    team_map_df = pd.read_excel('team_names.xlsx')\n",
    "    team_map = dict()\n",
    "    for i, row in team_map_df.iterrows():\n",
    "        team_map[row['ELO_name']] = row['API_name']\n",
    "\n",
    "    elo_data['Club'] = elo_data['Club'].apply(lambda x: team_map[x])\n",
    "\n",
    "    return elo_data[['Club', 'Elo']]\n",
    "\n",
    "# elo_df = get_api_teams_and_elo('2023-09-20', 'POL')\n",
    "# elo_df.head()"
   ]
  },
  {
   "cell_type": "code",
   "execution_count": 42,
   "metadata": {},
   "outputs": [],
   "source": [
    "def build_historical_standings_table_after_n_rounds(league_id: str, season: str, country_code_elo: str, country_code_api: str, after_round: int, elo_date: str) -> pd.DataFrame:\n",
    "\n",
    "    elo_df = get_api_teams_and_elo(elo_date, country_code_elo)\n",
    "\n",
    "    with open(f\"data/api/fixtures_{league_id}_{season}.json\", \"r\") as f:\n",
    "        fixtures = json.load(f)['response']\n",
    "\n",
    "    standings_df = elo_df.copy()[['Club']].reset_index(drop=True)\n",
    "    standings_df['Points'] = 0\n",
    "\n",
    "    for fixture in fixtures:\n",
    "        round_str = int(fixture['league']['round'].split(' ')[-1])\n",
    "        if round_str > after_round:\n",
    "            continue\n",
    "\n",
    "        home_team = fixture['teams']['home']['name']\n",
    "        away_team = fixture['teams']['away']['name']\n",
    "\n",
    "        home_goals = fixture['goals']['home']\n",
    "        away_goals = fixture['goals']['away']\n",
    "\n",
    "        if home_goals > away_goals:\n",
    "            standings_df.loc[standings_df['Club'] == home_team, 'Points'] += 3\n",
    "        elif home_goals < away_goals:\n",
    "            standings_df.loc[standings_df['Club'] == away_team, 'Points'] += 3\n",
    "        else:\n",
    "            standings_df.loc[standings_df['Club'] == home_team, 'Points'] += 1\n",
    "            standings_df.loc[standings_df['Club'] == away_team, 'Points'] += 1\n",
    "\n",
    "    standings_df = standings_df.sort_values(by=['Points'], ascending=False).reset_index(drop=True)\n",
    "\n",
    "    return standings_df\n",
    "\n",
    "# standings_df = build_historical_standings_table_after_n_rounds('106', '2023', 'POL', 'PL', 8, '2023-09-20')\n",
    "# standings_df.head()"
   ]
  },
  {
   "cell_type": "code",
   "execution_count": 74,
   "metadata": {},
   "outputs": [],
   "source": [
    "def simulate_season(league_id: str, season: str, after_round: int, elo_df: pd.DataFrame, standings_df: pd.DataFrame) -> pd.DataFrame:\n",
    "    with open(f\"data/api/fixtures_{league_id}_{season}.json\", \"r\") as f:\n",
    "        fixtures = json.load(f)['response']\n",
    "\n",
    "    season_standings_df = standings_df.copy()\n",
    "\n",
    "    for fixture in fixtures:\n",
    "        round_str = int(fixture['league']['round'].split(' ')[-1])\n",
    "        if round_str <= after_round:\n",
    "            continue\n",
    "\n",
    "        home_team = fixture['teams']['home']['name']\n",
    "        away_team = fixture['teams']['away']['name']\n",
    "\n",
    "        home_elo = elo_df[elo_df['Club'] == home_team]['Elo'].values[0]\n",
    "        away_elo = elo_df[elo_df['Club'] == away_team]['Elo'].values[0]\n",
    "\n",
    "        elo_difference = home_elo - away_elo + HFA\n",
    "\n",
    "        home_win_prob = 1 / (1 + math.pow(10, -elo_difference/400)) * 0.75\n",
    "        away_win_prob = 0.75 - home_win_prob\n",
    "        tie_prob = 0.25\n",
    "\n",
    "        result = random.choices(['home_win', 'away_win', 'draw'], [home_win_prob, away_win_prob, tie_prob])[0]\n",
    "\n",
    "        if result == 'home_win':\n",
    "            season_standings_df.loc[season_standings_df['Club'] == home_team, 'Points'] += 3\n",
    "        elif result == 'away_win':\n",
    "            season_standings_df.loc[season_standings_df['Club'] == away_team, 'Points'] += 3\n",
    "        elif result == 'draw':\n",
    "            season_standings_df.loc[season_standings_df['Club'] == home_team, 'Points'] += 1\n",
    "            season_standings_df.loc[season_standings_df['Club'] == away_team, 'Points'] += 1\n",
    "\n",
    "    season_standings_df = season_standings_df.sort_values(by=['Points'], ascending=False).reset_index(drop=True)\n",
    "\n",
    "    return season_standings_df\n",
    "\n",
    "# elo_df = get_api_teams_and_elo('2023-09-20', 'POL')\n",
    "# standings_df = build_historical_standings_table_after_n_rounds('106', '2023', 'POL', 'PL', 8, '2023-09-20')\n",
    "# season_df = simulate_season('106', '2023', 8, elo_df, standings_df)\n",
    "# season_df.head()"
   ]
  },
  {
   "cell_type": "code",
   "execution_count": 77,
   "metadata": {},
   "outputs": [],
   "source": [
    "def run_multiple_sims(league_id: str, season: str, after_round: int, elo_df: pd.DataFrame, standings_df: pd.DataFrame, number_of_sims: int, number_of_winning_places: int) -> pd.DataFrame:\n",
    "    winners = dict()\n",
    "\n",
    "    number_of_successful_sims = 0\n",
    "\n",
    "    for _ in tqdm(range(number_of_sims)):\n",
    "        winners_df = simulate_season(league_id, season, after_round, elo_df, standings_df)\n",
    "        if winners_df.iloc[number_of_winning_places - 1]['Points'] == winners_df.iloc[number_of_winning_places]['Points']:\n",
    "            continue\n",
    "        number_of_successful_sims += 1\n",
    "        for i in range(number_of_winning_places):\n",
    "            try:\n",
    "                winners[winners_df.iloc[i]['Club']] += 1\n",
    "            except KeyError:\n",
    "                winners[winners_df.iloc[i]['Club']] = 1\n",
    "\n",
    "    df = pd.DataFrame(list(winners.items()), columns=['Club', 'Wins'])\n",
    "    df['% winrate'] = round(df['Wins'] / number_of_successful_sims * 100)\n",
    "    df['Expected odds'] = round(number_of_successful_sims / df['Wins'], 2)\n",
    "    df = df.sort_values(by=['Wins'], ascending=False).reset_index(drop=True)\n",
    "    return df\n",
    "\n",
    "elo_df = get_api_teams_and_elo('2023-09-20', 'POL')\n",
    "standings_df = build_historical_standings_table_after_n_rounds('106', '2023', 'POL', 'PL', 8, '2023-09-20')\n",
    "run_multiple_sims('106', '2023', 8, elo_df, standings_df, 100, 3)"
   ]
  },
  {
   "cell_type": "code",
   "execution_count": null,
   "metadata": {},
   "outputs": [],
   "source": []
  },
  {
   "cell_type": "code",
   "execution_count": null,
   "metadata": {},
   "outputs": [],
   "source": []
  },
  {
   "cell_type": "code",
   "execution_count": null,
   "metadata": {},
   "outputs": [],
   "source": []
  },
  {
   "cell_type": "code",
   "execution_count": null,
   "metadata": {},
   "outputs": [],
   "source": []
  }
 ],
 "metadata": {
  "kernelspec": {
   "display_name": "latest",
   "language": "python",
   "name": "latest"
  },
  "language_info": {
   "codemirror_mode": {
    "name": "ipython",
    "version": 3
   },
   "file_extension": ".py",
   "mimetype": "text/x-python",
   "name": "python",
   "nbconvert_exporter": "python",
   "pygments_lexer": "ipython3",
   "version": "3.12.1"
  }
 },
 "nbformat": 4,
 "nbformat_minor": 2
}
